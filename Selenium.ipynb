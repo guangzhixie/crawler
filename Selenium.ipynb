{
 "cells": [
  {
   "cell_type": "markdown",
   "metadata": {},
   "source": [
    "# Selenium vs Normal Request\n",
    "\n",
    "In the sample website, the port numbers of the proxy IPs are loaded dynamically after loading the page. Thus, if we try to use the normal request to get the HTML and parse the port numbers, they will be wrong values. As shown below."
   ]
  },
  {
   "cell_type": "markdown",
   "metadata": {},
   "source": [
    "### Normal Request"
   ]
  },
  {
   "cell_type": "code",
   "execution_count": 26,
   "metadata": {},
   "outputs": [],
   "source": [
    "# coding : UTF-8\n",
    "import json\n",
    "from utils import request_util"
   ]
  },
  {
   "cell_type": "code",
   "execution_count": 31,
   "metadata": {},
   "outputs": [
    {
     "name": "stdout",
     "output_type": "stream",
     "text": [
      "http_proxy=185.136.158.14:8638 curl ip.gs\n",
      "http_proxy=206.189.66.204:8486 curl ip.gs\n",
      "http_proxy=118.24.185.22:8800 curl ip.gs\n",
      "http_proxy=128.199.222.51:8676 curl ip.gs\n",
      "http_proxy=47.104.172.227:8167 curl ip.gs\n",
      "http_proxy=178.128.91.23:8912 curl ip.gs\n",
      "http_proxy=144.208.88.204:8381 curl ip.gs\n",
      "http_proxy=195.235.204.60:8904 curl ip.gs\n",
      "http_proxy=64.19.101.22:8670 curl ip.gs\n",
      "http_proxy=195.189.60.23:8269 curl ip.gs\n",
      "http_proxy=39.137.107.34:8865 curl ip.gs\n",
      "http_proxy=185.136.157.235:8351 curl ip.gs\n",
      "http_proxy=60.255.186.169:8605 curl ip.gs\n",
      "http_proxy=103.108.140.216:8702 curl ip.gs\n",
      "http_proxy=202.155.82.222:8867 curl ip.gs\n",
      "http_proxy=188.235.152.114:8416 curl ip.gs\n",
      "http_proxy=35.224.248.29:8105 curl ip.gs\n",
      "http_proxy=69.51.6.201:9058 curl ip.gs\n",
      "http_proxy=41.164.31.154:9040 curl ip.gs\n",
      "http_proxy=194.44.246.83:8973 curl ip.gs\n"
     ]
    }
   ],
   "source": [
    "soup = BeautifulSoup(request_util.get_html(\"http://www.goubanjia.com/\"), \"lxml\")\n",
    "td_list = soup.select(\"table.table-hover tbody td.ip\")\n",
    "for i in td_list:\n",
    "    ip = \"\"\n",
    "    for j in i.find_all()[:-1]:\n",
    "        if(j.name!=\"p\"):\n",
    "            ip += j.text\n",
    "    port = i.select(\"span.port\")[0].text\n",
    "    cmd = \"http_proxy=%s:%s curl ip.gs\" % (ip, port)\n",
    "    print(cmd)"
   ]
  },
  {
   "cell_type": "markdown",
   "metadata": {},
   "source": [
    "### Selenium\n",
    "\n",
    "Using Selenium, we can mimic the browser behaviors. In this case, we wait for 3 seconds to let the website loads the correct port numbers. Then we try to parse the port numbers and are able to get the correct values. Notice the differences in port numbers between the results below and up."
   ]
  },
  {
   "cell_type": "code",
   "execution_count": 28,
   "metadata": {},
   "outputs": [],
   "source": [
    "from selenium import webdriver\n",
    "from selenium.webdriver.support.ui import WebDriverWait\n",
    "from selenium.webdriver.support import expected_conditions as EC\n",
    "from selenium.common.exceptions import TimeoutException"
   ]
  },
  {
   "cell_type": "code",
   "execution_count": 29,
   "metadata": {},
   "outputs": [],
   "source": [
    "browser = webdriver.Chrome('/Users/frank/Desktop/crawler/chromedriver')\n",
    "browser.get(\"http://www.goubanjia.com\")\n",
    "myElem = WebDriverWait(browser, 3)"
   ]
  },
  {
   "cell_type": "code",
   "execution_count": 30,
   "metadata": {},
   "outputs": [
    {
     "name": "stdout",
     "output_type": "stream",
     "text": [
      "http_proxy=185.136.158.14:1080 curl ip.gs\n",
      "http_proxy=206.189.66.204:3128 curl ip.gs\n",
      "http_proxy=118.24.185.22:80 curl ip.gs\n",
      "http_proxy=128.199.222.51:8080 curl ip.gs\n",
      "http_proxy=47.104.172.227:80 curl ip.gs\n",
      "http_proxy=178.128.91.23:8080 curl ip.gs\n",
      "http_proxy=144.208.88.204:3128 curl ip.gs\n",
      "http_proxy=195.235.204.60:3128 curl ip.gs\n",
      "http_proxy=64.19.101.22:23500 curl ip.gs\n",
      "http_proxy=195.189.60.23:3128 curl ip.gs\n",
      "http_proxy=39.137.107.34:8080 curl ip.gs\n",
      "http_proxy=185.136.157.235:1080 curl ip.gs\n",
      "http_proxy=60.255.186.169:8888 curl ip.gs\n",
      "http_proxy=103.108.140.216:3128 curl ip.gs\n",
      "http_proxy=202.155.82.222:40408 curl ip.gs\n",
      "http_proxy=188.235.152.114:8080 curl ip.gs\n",
      "http_proxy=35.224.248.29:3128 curl ip.gs\n",
      "http_proxy=69.51.6.201:8080 curl ip.gs\n",
      "http_proxy=41.164.31.154:59565 curl ip.gs\n",
      "http_proxy=194.44.246.83:41601 curl ip.gs\n"
     ]
    }
   ],
   "source": [
    "td_list = browser.find_elements_by_css_selector(\"table.table-hover tbody td.ip\")\n",
    "for i in td_list:\n",
    "    ip = \"\"\n",
    "    for j in i.find_elements_by_css_selector(\"*\")[:-1]:\n",
    "        if(j.tag_name!=\"p\"):\n",
    "            ip += j.text\n",
    "    port = i.find_elements_by_css_selector(\"span.port\")[0].text\n",
    "    cmd = \"http_proxy=%s:%s curl ip.gs\" % (ip, port)\n",
    "    print(cmd)\n",
    "    \n",
    "browser.close()"
   ]
  },
  {
   "cell_type": "code",
   "execution_count": null,
   "metadata": {},
   "outputs": [],
   "source": []
  }
 ],
 "metadata": {
  "kernelspec": {
   "display_name": "Python 3",
   "language": "python",
   "name": "python3"
  },
  "language_info": {
   "codemirror_mode": {
    "name": "ipython",
    "version": 3
   },
   "file_extension": ".py",
   "mimetype": "text/x-python",
   "name": "python",
   "nbconvert_exporter": "python",
   "pygments_lexer": "ipython3",
   "version": "3.6.4"
  }
 },
 "nbformat": 4,
 "nbformat_minor": 2
}
