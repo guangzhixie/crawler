{
 "cells": [
  {
   "cell_type": "markdown",
   "metadata": {},
   "source": [
    "# Taobao\n",
    "\n",
    "Crawler to get users' uploaded images from their ratings in Taobao website"
   ]
  },
  {
   "cell_type": "code",
   "execution_count": 1,
   "metadata": {},
   "outputs": [],
   "source": [
    "# coding : UTF-8\n",
    "import json\n",
    "from utils import request_util"
   ]
  },
  {
   "cell_type": "markdown",
   "metadata": {},
   "source": [
    "### Function to Get Rate URL"
   ]
  },
  {
   "cell_type": "code",
   "execution_count": 2,
   "metadata": {},
   "outputs": [],
   "source": [
    "def get_rate_url(target_url, current_page):\n",
    "    html = request_util.get_html(target_url)\n",
    "    config = html[html.find('rateConfig'):]\n",
    "    start = config.find('{')\n",
    "    end = config.find('}')\n",
    "    json_info = config[start:(end+1)]\n",
    "    \n",
    "    info = json.loads(json_info)\n",
    "    itemId = info['itemId']\n",
    "    sellerId = info['sellerId']\n",
    "    #spuId = info['spuId']\n",
    "    \n",
    "    rate_url ='https://rate.tmall.com/list_detail_rate.htm?itemId=%s&sellerId=%s&currentPage=%s&order=3'% (itemId, sellerId, current_page)\n",
    "    \n",
    "    return rate_url"
   ]
  },
  {
   "cell_type": "markdown",
   "metadata": {},
   "source": [
    "### Function to Get Rate Image List"
   ]
  },
  {
   "cell_type": "code",
   "execution_count": 3,
   "metadata": {},
   "outputs": [],
   "source": [
    "def get_img_list(rate_url):\n",
    "    rate_html = request_util.get_html(rate_url)\n",
    "    \n",
    "    rate_start = rate_html.find('{')\n",
    "    rate_end = rate_html.rfind('}')\n",
    "    rate_info = rate_html[rate_start:(rate_end+1)]\n",
    "    \n",
    "    final_info = json.loads(rate_info)\n",
    "    rate_list = final_info['rateDetail']['rateList']\n",
    "    img_list = []\n",
    "    for rate in rate_list:\n",
    "        if rate['pics']:\n",
    "            img_list = img_list + rate['pics']\n",
    "            \n",
    "    return img_list"
   ]
  },
  {
   "cell_type": "markdown",
   "metadata": {},
   "source": [
    "## Run it"
   ]
  },
  {
   "cell_type": "code",
   "execution_count": 4,
   "metadata": {},
   "outputs": [
    {
     "name": "stdout",
     "output_type": "stream",
     "text": [
      "//img.alicdn.com/bao/uploaded/i4/O1CN011P2eeFVxfL1q4aC_!!0-rate.jpg\n",
      "//img.alicdn.com/bao/uploaded/i4/O1CN011P2eeGIrf4EBOli_!!0-rate.jpg\n",
      "//img.alicdn.com/bao/uploaded/i1/O1CN011P2eeHwGcRkoidt_!!0-rate.jpg\n",
      "//img.alicdn.com/bao/uploaded/i3/TB2rUQMbIfpK1RjSZFOXXa6nFXa_!!0-rate.jpg\n",
      "//img.alicdn.com/bao/uploaded/i4/TB2taIJbMHqK1RjSZFPXXcwapXa_!!0-rate.jpg\n",
      "//img.alicdn.com/bao/uploaded/i4/TB2PrMWtGAoBKNjSZSyXXaHAVXa_!!0-rate.jpg\n",
      "//img.alicdn.com/bao/uploaded/i3/TB2mvD1t8smBKNjSZFFXXcT9VXa_!!0-rate.jpg\n",
      "//img.alicdn.com/bao/uploaded/i4/TB2.rwtt5MnBKNjSZFzXXc_qVXa_!!0-rate.jpg\n",
      "//img.alicdn.com/bao/uploaded/i4/TB2lbMWtGAoBKNjSZSyXXaHAVXa_!!0-rate.jpg\n",
      "//img.alicdn.com/bao/uploaded/i3/TB2Mi8opDCWBKNjSZFtXXaC3FXa_!!0-rate.jpg\n",
      "//img.alicdn.com/bao/uploaded/i3/TB2DsKrXtVIxuRkSR1gXXXLspXa_!!0-rate.jpg\n",
      "//img.alicdn.com/bao/uploaded/i1/TB226pQXyGezuRkSO8gXXaanFXa_!!0-rate.jpg\n",
      "//img.alicdn.com/bao/uploaded/i2/TB2zDbYqSMmBKNjSZTEXXasKpXa_!!0-rate.jpg\n",
      "//img.alicdn.com/bao/uploaded/i3/TB24AdQvTtYBeNjy1XdXXXXyVXa_!!0-rate.jpg\n"
     ]
    }
   ],
   "source": [
    "# Your URL to the page\n",
    "target_url ='https://detail.tmall.com/item.htm?spm=a230r.1.14.83.7fa3515fbKvmjW&id=540120748824&ns=1&abbucket=19'\n",
    "current_page = 1\n",
    "\n",
    "rate_url = get_rate_url(target_url, current_page)\n",
    "img_list = get_img_list(rate_url)\n",
    "\n",
    "for img in img_list:\n",
    "    print(img)"
   ]
  },
  {
   "cell_type": "code",
   "execution_count": null,
   "metadata": {},
   "outputs": [],
   "source": []
  }
 ],
 "metadata": {
  "kernelspec": {
   "display_name": "Python 3",
   "language": "python",
   "name": "python3"
  },
  "language_info": {
   "codemirror_mode": {
    "name": "ipython",
    "version": 3
   },
   "file_extension": ".py",
   "mimetype": "text/x-python",
   "name": "python",
   "nbconvert_exporter": "python",
   "pygments_lexer": "ipython3",
   "version": "3.6.4"
  }
 },
 "nbformat": 4,
 "nbformat_minor": 2
}
