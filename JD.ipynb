{
 "cells": [
  {
   "cell_type": "markdown",
   "metadata": {},
   "source": [
    "# JD\n",
    "\n",
    "Crawler to get users' uploaded images from their ratings in JD website"
   ]
  },
  {
   "cell_type": "code",
   "execution_count": 2,
   "metadata": {},
   "outputs": [],
   "source": [
    "# coding : UTF-8\n",
    "import json\n",
    "from utils import request_util"
   ]
  },
  {
   "cell_type": "markdown",
   "metadata": {},
   "source": [
    "### Function to Get Product ID from Target URL"
   ]
  },
  {
   "cell_type": "code",
   "execution_count": 5,
   "metadata": {},
   "outputs": [],
   "source": [
    "def get_product_id(target_url):\n",
    "    start = target_url.rfind('/')\n",
    "    end = target_url.rfind('.html')\n",
    "    return target_url[(start+1):end]"
   ]
  },
  {
   "cell_type": "markdown",
   "metadata": {},
   "source": [
    "### Function to Get Rate Image List"
   ]
  },
  {
   "cell_type": "code",
   "execution_count": 40,
   "metadata": {},
   "outputs": [],
   "source": [
    "def get_img_list(target_url, current_page):\n",
    "    product_id = get_product_id(target_url)\n",
    "    rate_url = 'https://sclub.jd.com/comment/productPageComments.action?productId=%s&score=0&sortType=5&page=%s&pageSize=10' % (product_id, current_page-1)\n",
    "    rate_html = request_util.get_html(rate_url)\n",
    "    \n",
    "    json_start = rate_html.find('{')\n",
    "    json_end = rate_html.rfind('}')\n",
    "    json_info = rate_html[json_start:(json_end+1)]\n",
    "    \n",
    "    final_info = json.loads(json_info)\n",
    "    comments = final_info['comments']\n",
    "    \n",
    "    img_list = []\n",
    "    for comment in comments:\n",
    "        images = comment['images']\n",
    "        for img in images:\n",
    "            if img['imgUrl']:\n",
    "                img_list.append(img['imgUrl'])\n",
    "            \n",
    "    return img_list"
   ]
  },
  {
   "cell_type": "markdown",
   "metadata": {},
   "source": [
    "### Run it"
   ]
  },
  {
   "cell_type": "code",
   "execution_count": 41,
   "metadata": {},
   "outputs": [
    {
     "name": "stdout",
     "output_type": "stream",
     "text": [
      "//img30.360buyimg.com/n0/s128x96_jfs/t12916/10/2613396260/166242/36ba7e5a/5a4b6a73N3431ab4f.jpg\n",
      "//img30.360buyimg.com/n0/s128x96_jfs/t16105/354/1063861625/469502/71e2fc87/5a4b6a52N126644fa.jpg\n",
      "//img30.360buyimg.com/n0/s128x96_jfs/t22963/319/2135924115/62167/54aafe31/5b7536b6N37f612a4.jpg\n",
      "//img30.360buyimg.com/n0/s128x96_jfs/t24910/200/580904708/68290/4ace4cf5/5b7536b6Nf6b04687.jpg\n",
      "//img30.360buyimg.com/n0/s128x96_jfs/t22477/63/2156981210/30335/b88d03f5/5b7536b7N8635eb36.jpg\n",
      "//img30.360buyimg.com/n0/s128x96_jfs/t25222/58/575933119/29847/93648d91/5b7536b7Ne0efcca8.jpg\n",
      "//img30.360buyimg.com/n0/s128x96_jfs/t24004/2/2132843934/39452/6b9ac251/5b7536b7N7ed442c7.jpg\n",
      "//img30.360buyimg.com/n0/s128x96_jfs/t23734/350/2137530695/37052/d99e6cf8/5b7536b7N19c3c11a.jpg\n",
      "//img30.360buyimg.com/n0/s128x96_jfs/t24025/354/2124074351/56346/77a7f8e3/5b7536b8Na078f06d.jpg\n",
      "//img30.360buyimg.com/n0/s128x96_jfs/t25183/139/594949635/34574/ba71a4f0/5b7536b8N4c8609fb.jpg\n",
      "//img30.360buyimg.com/n0/s128x96_jfs/t23830/98/2131246140/62167/54aafe31/5b7536c6N71f36f64.jpg\n",
      "//img30.360buyimg.com/n0/s128x96_jfs/t24187/357/2141304199/68290/4ace4cf5/5b7536c6N62b18e61.jpg\n",
      "//img30.360buyimg.com/n0/s128x96_jfs/t22852/345/2146025347/30335/b88d03f5/5b7536c7N358bebb7.jpg\n",
      "//img30.360buyimg.com/n0/s128x96_jfs/t23026/83/2159444933/29847/93648d91/5b7536c7N143ac2eb.jpg\n",
      "//img30.360buyimg.com/n0/s128x96_jfs/t25543/134/631990710/39452/6b9ac251/5b7536c7N1c6cdb3b.jpg\n",
      "//img30.360buyimg.com/n0/s128x96_jfs/t24697/176/595350496/37052/d99e6cf8/5b7536c7Ne0d9feac.jpg\n",
      "//img30.360buyimg.com/n0/s128x96_jfs/t22816/7/2140201446/56346/77a7f8e3/5b7536c7N2816444d.jpg\n",
      "//img30.360buyimg.com/n0/s128x96_jfs/t22870/351/2107954413/34574/ba71a4f0/5b7536c8N6e2db4d5.jpg\n",
      "//img30.360buyimg.com/n0/s128x96_jfs/t26938/273/630034526/91333/ed173ec4/5bb44c97N7da685e3.jpg\n",
      "//img30.360buyimg.com/n0/s128x96_jfs/t24994/329/1538807588/71286/bf560fba/5bb44c97N8184c2f4.jpg\n",
      "//img30.360buyimg.com/n0/s128x96_jfs/t26290/2/608878757/80046/99565d9e/5bb44c97Ncbf4ef31.jpg\n",
      "//img30.360buyimg.com/n0/s128x96_jfs/t27133/258/610642089/55756/5087f93a/5bb44c98Nac25089c.jpg\n",
      "//img30.360buyimg.com/n0/s128x96_jfs/t25621/171/1304947067/75500/ffa4e550/5b907d54N960e0bec.jpg\n",
      "//img30.360buyimg.com/n0/s128x96_jfs/t26023/155/1304732852/75440/666daff/5b907d54Nce9e85ed.jpg\n",
      "//img30.360buyimg.com/n0/s128x96_jfs/t27286/133/1158935308/166809/d10f15c5/5bc303feN9e114732.jpg\n",
      "//img30.360buyimg.com/n0/s128x96_jfs/t26032/259/2064626740/154680/663e7437/5bc30400Nff460ca5.jpg\n",
      "//img30.360buyimg.com/n0/s128x96_jfs/t24742/1/2048430144/148203/c555d593/5bc30401N31273579.jpg\n",
      "//img30.360buyimg.com/n0/s128x96_jfs/t25468/356/2120436288/118655/6adbc915/5bc30403Ne25dd07c.jpg\n",
      "//img30.360buyimg.com/n0/s128x96_jfs/t27826/177/1184552540/123696/b47cfe11/5bc30404Nbc749cbe.jpg\n"
     ]
    }
   ],
   "source": [
    "# Your URL to the page\n",
    "target_url ='https://item.jd.com/1719935.html'\n",
    "current_page = 1\n",
    "\n",
    "img_list = get_img_list(target_url, current_page)\n",
    "for img in img_list:\n",
    "    print(img)"
   ]
  },
  {
   "cell_type": "markdown",
   "metadata": {},
   "source": [
    "### Query construct examples"
   ]
  },
  {
   "cell_type": "code",
   "execution_count": 27,
   "metadata": {},
   "outputs": [
    {
     "data": {
      "text/plain": [
       "'%E5%8F%AF%E4%B9%90'"
      ]
     },
     "execution_count": 27,
     "metadata": {},
     "output_type": "execute_result"
    }
   ],
   "source": [
    "import urllib\n",
    "urllib.parse.quote_plus('可乐')"
   ]
  },
  {
   "cell_type": "code",
   "execution_count": 28,
   "metadata": {},
   "outputs": [
    {
     "data": {
      "text/plain": [
       "'keyword=%E5%8F%AF%E4%B9%90&enc=utf-8'"
      ]
     },
     "execution_count": 28,
     "metadata": {},
     "output_type": "execute_result"
    }
   ],
   "source": [
    "query = { 'keyword' : '可乐', 'enc' : 'utf-8'}\n",
    "urllib.parse.urlencode(query)"
   ]
  },
  {
   "cell_type": "code",
   "execution_count": null,
   "metadata": {},
   "outputs": [],
   "source": []
  },
  {
   "cell_type": "code",
   "execution_count": null,
   "metadata": {},
   "outputs": [],
   "source": []
  }
 ],
 "metadata": {
  "kernelspec": {
   "display_name": "Python 3",
   "language": "python",
   "name": "python3"
  },
  "language_info": {
   "codemirror_mode": {
    "name": "ipython",
    "version": 3
   },
   "file_extension": ".py",
   "mimetype": "text/x-python",
   "name": "python",
   "nbconvert_exporter": "python",
   "pygments_lexer": "ipython3",
   "version": "3.6.4"
  }
 },
 "nbformat": 4,
 "nbformat_minor": 2
}
